{
 "cells": [
  {
   "cell_type": "markdown",
   "metadata": {},
   "source": [
    "## Lecture et écriture dans un fichier"
   ]
  },
  {
   "cell_type": "markdown",
   "metadata": {},
   "source": [
    "Les fichiers considérés ici sont des fichiers dont le contenu est constitué uniquement de texte (lettres, chiffres, caractères de ponctuation, ayant une représentation de type `str` en Python), structurés uniquement par des passages à la ligne.  \n",
    "Il s'agit usuellement des fichiers d'extension `.txt` et `.csv`.  "
   ]
  },
  {
   "cell_type": "markdown",
   "metadata": {},
   "source": [
    "La lecture de ces fichiers ne requiert que la connaissance de la table d'encodage des caractères utilisée.  \n",
    "Les encodages usuels sont par exemple décrits <a href=\"https://www.alsacreations.com/astuce/lire/83-codages-ascii-latin1-etc.html\">ici</a>.  \n",
    "Pour connnaître l'encodage d'un fichier texte déjà créé, on peut examiner les propriétés du fichier ou l'ouvrir avec l'application <a href=\"https://notepad-plus-plus.org/downloads/\">Notepad++</a>.  \n",
    "L'encodage spécifique à un fichier pourra être indiqué à Python au travers de l'argument `encoding`.  \n",
    "Par défaut Python utilise l'encodage par défaut défini par l'OS de la machine sur laquelle on exécute le programme."
   ]
  },
  {
   "cell_type": "markdown",
   "metadata": {},
   "source": [
    "Notons que les fichiers d'extension `.py`, `.html` répondent également aux spécifications ci-dessus (ce sont des fichiers de texte) et peuvent être ouverts, écrits, modifiés, avec les méthodes décrites ici. En revanche, ce n'est pas le cas des fichiers `.odt`, `.doc`, *etc.*, créés à l'aide d'applications de traitement de texte, ou `.calc`, `.xls`, *etc.*, créés à l'aide de tableurs, et qui contiennent des informations complexes de mise en forme, ou des formules, ..., dont l'encodage binaire suit des règles propres, définies par l'application avec laquelle ils ont été créés.   \n",
    "Les régles de cet encodage peuvent être &laquo; *libres* &raquo; (publiées et consultables) ou &laquo; *propriétaires* &raquo; (non divulguées et protégées par des droits)."
   ]
  },
  {
   "cell_type": "markdown",
   "metadata": {},
   "source": [
    "* Préliminaire : chargement des fichiers-exemples"
   ]
  },
  {
   "cell_type": "code",
   "execution_count": 12,
   "metadata": {},
   "outputs": [
    {
     "name": "stdout",
     "output_type": "stream",
     "text": [
      "7 téléchargement(s) réussi(s).\n"
     ]
    }
   ],
   "source": [
    "import os\n",
    "\n",
    "def ensure_path_validity(path_to_dst):\n",
    "    head, tail = os.path.split(path_to_dst)\n",
    "    #print('head =', head, 'tail =', tail)\n",
    "    if head != '' and not os.path.exists(head):\n",
    "        #print(head, head == '')\n",
    "        ensure_path_validity(head)\n",
    "    if head == '':\n",
    "        head = '.'\n",
    "    if tail != '' and tail not in os.listdir(head) or not os.path.isdir(path_to_dst):\n",
    "        os.mkdir(path_to_dst)\n",
    "\n",
    "def download_file_as_is(src_url, dst_dir, filename):\n",
    "    from urllib.request import urlopen\n",
    "    f = urlopen(src_url)\n",
    "    if dst_dir != '.':\n",
    "        ensure_path_validity(dst_dir)\n",
    "    with open(os.path.join(dst_dir, filename), 'wb') as f1:\n",
    "        f1.write(f.read())\n",
    "\n",
    "distant_directory_url = \"https://raw.githubusercontent.com/lbaille20/Info2A/main/PSI-TD08%202020-21/\"\n",
    "fichiers_a_telecharger = [\n",
    "    \"Info2A-PSI_TD07_LectureEcritureFichier%202020-21_v0.docx\",\n",
    "    \"Correspondances.txt\",\n",
    "    \"Notre-Dame%20de%20Paris.txt\",\n",
    "    \"coordonnees.csv\",\n",
    "    \"Titrage.txt\",\n",
    "    \"graphe1_listesadjacence.csv\",\n",
    "    \"graphe2_listesadjacence.csv\"]\n",
    "\n",
    "cpt = 0\n",
    "for filename in fichiers_a_telecharger:\n",
    "    src_url = '/'.join([distant_directory_url, filename])\n",
    "    dst_dir = \"Telechargements/TD08\"\n",
    "    try:\n",
    "        download_file_as_is(src_url, dst_dir, filename)\n",
    "        cpt += 1\n",
    "    except:\n",
    "        print(filename, ': échec.')\n",
    "print(cpt, 'téléchargement(s) réussi(s).')"
   ]
  },
  {
   "cell_type": "markdown",
   "metadata": {},
   "source": [
    "### I) Lecture et écriture dans un fichier texte (.txt, .csv)"
   ]
  },
  {
   "cell_type": "markdown",
   "metadata": {},
   "source": [
    "#### I.1. Lecture dans un fichier texte"
   ]
  },
  {
   "cell_type": "markdown",
   "metadata": {},
   "source": [
    "La lecture dans un fichier se déroule en trois étapes :  \n",
    "1. ouverture du fichier  ;\n",
    "2. lecture du contenu du fichier ;  \n",
    "3. fermeture du fichier."
   ]
  },
  {
   "cell_type": "markdown",
   "metadata": {},
   "source": [
    "L'ouverture du fichier se fait par appel à la fonction `open()`, qui crée un *objet fichier* interfaçant l'accès au fichier, et la fermeture par appel à la méthode `close()` sur cet objet-fichier.  "
   ]
  },
  {
   "cell_type": "markdown",
   "metadata": {},
   "source": [
    "**exécuter la cellule suivante pour télécharger les fichiers**"
   ]
  },
  {
   "cell_type": "markdown",
   "metadata": {},
   "source": [
    "La lecture proprement dite, permettant de récupérer le contenu du fichier sous la forme d'une ou plusieurs chaînes de caractères (type `str`), se fait, au choix, à l'aide des trois méthodes `.read()`, `.readlines()` ou `.readline()`.  "
   ]
  },
  {
   "cell_type": "code",
   "execution_count": 2,
   "metadata": {},
   "outputs": [],
   "source": [
    "import os"
   ]
  },
  {
   "cell_type": "code",
   "execution_count": 3,
   "metadata": {},
   "outputs": [
    {
     "data": {
      "text/plain": [
       "['Info2A-PSI_Traitement_Images_TD06_20200801.ipynb',\n",
       " 'Telechargements',\n",
       " 'psi_annexes-2020-21_info1a_lecture-et-ecriture-dans-un-fichier_v0.ipynb',\n",
       " 'IPT_PSI-TD06 2019-2020_CR_v7.ipynb',\n",
       " 'Info2A_annexes-2020-21_lecture-et-ecriture-dans-un-fichier_v1.ipynb',\n",
       " 'Untitled.ipynb',\n",
       " '.ipynb_checkpoints']"
      ]
     },
     "execution_count": 3,
     "metadata": {},
     "output_type": "execute_result"
    }
   ],
   "source": [
    "os.listdir()"
   ]
  },
  {
   "cell_type": "code",
   "execution_count": 13,
   "metadata": {},
   "outputs": [],
   "source": [
    "f = open(\"Telechargements/TD08/Correspondances.txt\", encoding=\"cp1252\")"
   ]
  },
  {
   "cell_type": "code",
   "execution_count": 5,
   "metadata": {},
   "outputs": [],
   "source": [
    "f = open(\"Telechargements/TD08/Correspondances.txt\", encoding=\"cp1252\")\n",
    "contenu = f.read()\n",
    "f.close()"
   ]
  },
  {
   "cell_type": "code",
   "execution_count": 6,
   "metadata": {},
   "outputs": [],
   "source": [
    "f.close()"
   ]
  },
  {
   "cell_type": "code",
   "execution_count": 7,
   "metadata": {},
   "outputs": [
    {
     "data": {
      "text/plain": [
       "'Correspondances\\n\\nLa Nature est un temple où de vivants piliers\\nLaissent parfois sortir de confuses paroles\\xa0;\\nL’homme y passe à travers des forêts de symboles\\nQui l’observent avec des regards familiers.\\n\\nComme de longs échos qui de loin se confondent\\nDans une ténébreuse et profonde unité,\\nVaste comme la nuit et comme la clarté,\\nLes parfums, les couleurs et les sons se répondent.\\n\\nIl est des parfums frais comme des chairs d’enfants,\\nDoux comme les hautbois, verts comme les prairies,\\n—\\xa0Et d’autres, corrompus, riches et triomphants,\\n\\n\\nAyant l’expansion des choses infinies,\\nComme l’ambre, le musc, le benjoin et l’encens,\\nQui chantent les transports de l’esprit et des sens.\\n\\n(Recueil\\xa0: Les fleurs du mal)\\n'"
      ]
     },
     "execution_count": 7,
     "metadata": {},
     "output_type": "execute_result"
    }
   ],
   "source": [
    "contenu"
   ]
  },
  {
   "cell_type": "code",
   "execution_count": 8,
   "metadata": {},
   "outputs": [
    {
     "name": "stdout",
     "output_type": "stream",
     "text": [
      "Correspondances\n",
      "\n",
      "La Nature est un temple où de vivants piliers\n",
      "Laissent parfois sortir de confuses paroles ;\n",
      "L’homme y passe à travers des forêts de symboles\n",
      "Qui l’observent avec des regards familiers.\n",
      "\n",
      "Comme de longs échos qui de loin se confondent\n",
      "Dans une ténébreuse et profonde unité,\n",
      "Vaste comme la nuit et comme la clarté,\n",
      "Les parfums, les couleurs et les sons se répondent.\n",
      "\n",
      "Il est des parfums frais comme des chairs d’enfants,\n",
      "Doux comme les hautbois, verts comme les prairies,\n",
      "— Et d’autres, corrompus, riches et triomphants,\n",
      "\n",
      "\n",
      "Ayant l’expansion des choses infinies,\n",
      "Comme l’ambre, le musc, le benjoin et l’encens,\n",
      "Qui chantent les transports de l’esprit et des sens.\n",
      "\n",
      "(Recueil : Les fleurs du mal)\n",
      "\n"
     ]
    }
   ],
   "source": [
    "print(contenu)"
   ]
  },
  {
   "cell_type": "code",
   "execution_count": 114,
   "metadata": {},
   "outputs": [],
   "source": [
    "chemin = \"Telechargements/TD08/Correspondances.txt\"\n",
    "\n",
    "with open(chemin, encoding=\"cp1252\") as f:\n",
    "    contenu = f.readlines()"
   ]
  },
  {
   "cell_type": "code",
   "execution_count": 117,
   "metadata": {},
   "outputs": [
    {
     "name": "stdout",
     "output_type": "stream",
     "text": [
      "['Correspondances\\n', '\\n', 'La Nature est un temple où de vivants piliers\\n', 'Laissent parfois sortir de confuses paroles\\xa0;\\n', 'L’homme y passe à travers des forêts de symboles\\n', 'Qui l’observent avec des regards familiers.\\n', '\\n', 'Comme de longs échos qui de loin se confondent\\n', 'Dans une ténébreuse et profonde unité,\\n', 'Vaste comme la nuit et comme la clarté,\\n', 'Les parfums, les couleurs et les sons se répondent.\\n', '\\n', 'Il est des parfums frais comme des chairs d’enfants,\\n', 'Doux comme les hautbois, verts comme les prairies,\\n', '—\\xa0Et d’autres, corrompus, riches et triomphants,\\n', '\\n', '\\n', 'Ayant l’expansion des choses infinies,\\n', 'Comme l’ambre, le musc, le benjoin et l’encens,\\n', 'Qui chantent les transports de l’esprit et des sens.\\n', '\\n', '(Recueil\\xa0: Les fleurs du mal)\\n']\n"
     ]
    }
   ],
   "source": [
    "contenu"
   ]
  },
  {
   "cell_type": "code",
   "execution_count": 21,
   "metadata": {},
   "outputs": [],
   "source": [
    "f = open(\"Telechargements/TD08/Correspondances.txt\", encoding=\"cp1252\")\n",
    "contenu1 = f.readlines()\n",
    "f.close()"
   ]
  },
  {
   "cell_type": "code",
   "execution_count": 24,
   "metadata": {},
   "outputs": [],
   "source": [
    "#contenu1"
   ]
  },
  {
   "cell_type": "code",
   "execution_count": 14,
   "metadata": {},
   "outputs": [],
   "source": [
    "f = open(\"Telechargements/TD08/Correspondances.txt\", encoding=\"cp1252\")\n",
    "contenu = f.readline()"
   ]
  },
  {
   "cell_type": "code",
   "execution_count": 15,
   "metadata": {},
   "outputs": [
    {
     "data": {
      "text/plain": [
       "'Correspondances\\n'"
      ]
     },
     "execution_count": 15,
     "metadata": {},
     "output_type": "execute_result"
    }
   ],
   "source": [
    "contenu"
   ]
  },
  {
   "cell_type": "code",
   "execution_count": 16,
   "metadata": {},
   "outputs": [],
   "source": [
    "contenu = f.readline()"
   ]
  },
  {
   "cell_type": "code",
   "execution_count": 17,
   "metadata": {},
   "outputs": [
    {
     "data": {
      "text/plain": [
       "'\\n'"
      ]
     },
     "execution_count": 17,
     "metadata": {},
     "output_type": "execute_result"
    }
   ],
   "source": [
    "contenu"
   ]
  },
  {
   "cell_type": "code",
   "execution_count": 18,
   "metadata": {},
   "outputs": [],
   "source": [
    "f.close()"
   ]
  },
  {
   "cell_type": "code",
   "execution_count": 19,
   "metadata": {},
   "outputs": [
    {
     "ename": "ValueError",
     "evalue": "I/O operation on closed file.",
     "output_type": "error",
     "traceback": [
      "\u001b[0;31m---------------------------------------------------------------------------\u001b[0m",
      "\u001b[0;31mValueError\u001b[0m                                Traceback (most recent call last)",
      "\u001b[0;32m<ipython-input-19-c6ad4e92a5d6>\u001b[0m in \u001b[0;36m<module>\u001b[0;34m\u001b[0m\n\u001b[0;32m----> 1\u001b[0;31m \u001b[0mcontenu\u001b[0m \u001b[0;34m=\u001b[0m \u001b[0mf\u001b[0m\u001b[0;34m.\u001b[0m\u001b[0mreadline\u001b[0m\u001b[0;34m(\u001b[0m\u001b[0;34m)\u001b[0m\u001b[0;34m\u001b[0m\u001b[0;34m\u001b[0m\u001b[0m\n\u001b[0m",
      "\u001b[0;31mValueError\u001b[0m: I/O operation on closed file."
     ]
    }
   ],
   "source": [
    "contenu = f.readline()"
   ]
  },
  {
   "cell_type": "code",
   "execution_count": 38,
   "metadata": {},
   "outputs": [],
   "source": [
    "f = open(\"Telechargements/TD08/Correspondances.txt\", encoding=\"cp1252\")\n",
    "L = []\n",
    "ligne = \"*\"\n",
    "while ligne != \"\":\n",
    "    ligne = f.readline()\n",
    "    L.append(ligne)\n",
    "f.close()"
   ]
  },
  {
   "cell_type": "code",
   "execution_count": 39,
   "metadata": {},
   "outputs": [
    {
     "data": {
      "text/plain": [
       "['Correspondances\\n',\n",
       " '\\n',\n",
       " 'La Nature est un temple où de vivants piliers\\n',\n",
       " 'Laissent parfois sortir de confuses paroles\\xa0;\\n',\n",
       " 'L’homme y passe à travers des forêts de symboles\\n',\n",
       " 'Qui l’observent avec des regards familiers.\\n',\n",
       " '\\n',\n",
       " 'Comme de longs échos qui de loin se confondent\\n',\n",
       " 'Dans une ténébreuse et profonde unité,\\n',\n",
       " 'Vaste comme la nuit et comme la clarté,\\n',\n",
       " 'Les parfums, les couleurs et les sons se répondent.\\n',\n",
       " '\\n',\n",
       " 'Il est des parfums frais comme des chairs d’enfants,\\n',\n",
       " 'Doux comme les hautbois, verts comme les prairies,\\n',\n",
       " '—\\xa0Et d’autres, corrompus, riches et triomphants,\\n',\n",
       " '\\n',\n",
       " '\\n',\n",
       " 'Ayant l’expansion des choses infinies,\\n',\n",
       " 'Comme l’ambre, le musc, le benjoin et l’encens,\\n',\n",
       " 'Qui chantent les transports de l’esprit et des sens.\\n',\n",
       " '\\n',\n",
       " '(Recueil\\xa0: Les fleurs du mal)\\n',\n",
       " '']"
      ]
     },
     "execution_count": 39,
     "metadata": {},
     "output_type": "execute_result"
    }
   ],
   "source": [
    "L"
   ]
  },
  {
   "cell_type": "markdown",
   "metadata": {},
   "source": [
    "#### I.2. Écriture dans un fichier texte"
   ]
  },
  {
   "cell_type": "markdown",
   "metadata": {},
   "source": [
    "De même, l'écriture dans un fichier se déroule en trois étapes :  \n",
    "1. ouverture du fichier  ;\n",
    "2. écriture du contenu du fichier ;  \n",
    "3. fermeture du fichier."
   ]
  },
  {
   "cell_type": "code",
   "execution_count": 41,
   "metadata": {},
   "outputs": [],
   "source": [
    "f = open(\"fichier.txt\", 'w')\n",
    "f.write(\"Vive\\t la\\n vie\")\n",
    "f.write(\"Il nei\")\n",
    "f.write(\"ge\")\n",
    "f.close()"
   ]
  },
  {
   "cell_type": "code",
   "execution_count": 42,
   "metadata": {},
   "outputs": [
    {
     "data": {
      "text/plain": [
       "['psi_annexes-2020-21_info1a_lecture-et-ecriture-dans-un-fichier_v0.ipynb',\n",
       " 'media',\n",
       " 'data',\n",
       " '.ipynb_checkpoints',\n",
       " 'Telechargements',\n",
       " 'fichier.txt']"
      ]
     },
     "execution_count": 42,
     "metadata": {},
     "output_type": "execute_result"
    }
   ],
   "source": [
    "os.listdir()"
   ]
  },
  {
   "cell_type": "markdown",
   "metadata": {},
   "source": [
    "#### I.3. Ouverture en ajout"
   ]
  },
  {
   "cell_type": "markdown",
   "metadata": {},
   "source": [
    "Mentionné pour information."
   ]
  },
  {
   "cell_type": "markdown",
   "metadata": {},
   "source": [
    "### I) Traitements spécifiques aux fichiers .csv"
   ]
  },
  {
   "cell_type": "markdown",
   "metadata": {},
   "source": [
    "Ce paragraphe s'applique aussi bien aux fichiers `.csv` (*csv* pour *comma separated values*) avec séparateur point-virgule, séparateur virgule, ou `.txt` avec séparateur tabulation, qui sont les trois formats les plus usuels pour stocker des informations structurées sous la forme de tableaux.   "
   ]
  },
  {
   "cell_type": "markdown",
   "metadata": {},
   "source": [
    "Dans ce qui suit, on parlera de fichiers `.csv` pour désigner de façon générique de tels fichiers, dans lesquels les données sont structurées par des passages à la ligne (définissant les lignes du tableau) et la présence d'un **séparateur** au sein des lignes, indiquant les changements de colonne (définissant les colonnes du tableau)."
   ]
  },
  {
   "cell_type": "markdown",
   "metadata": {},
   "source": [
    "On peut créer de tels fichiers à l'aide d'un tableur, en choisissant au moment de l'enregistrement, l'un des ces frois formats."
   ]
  },
  {
   "cell_type": "markdown",
   "metadata": {},
   "source": [
    "#### I.1. Lecture dans un fichier `.csv`"
   ]
  },
  {
   "cell_type": "markdown",
   "metadata": {},
   "source": [
    "**I.1.a.** Lecture et format des données récupérées"
   ]
  },
  {
   "cell_type": "code",
   "execution_count": 20,
   "metadata": {},
   "outputs": [],
   "source": [
    "with open(\"Telechargements/TD08/coordonnees.csv\") as f:\n",
    "    contenu = f.readlines()"
   ]
  },
  {
   "cell_type": "code",
   "execution_count": 21,
   "metadata": {},
   "outputs": [
    {
     "data": {
      "text/plain": [
       "['x;y\\n', '1.2;-0.1\\n', '4.0;5.0\\n', '4.1;5.7\\n']"
      ]
     },
     "execution_count": 21,
     "metadata": {},
     "output_type": "execute_result"
    }
   ],
   "source": [
    "contenu"
   ]
  },
  {
   "cell_type": "markdown",
   "metadata": {},
   "source": [
    "**I.1.b.** Méthodes utiles `.strip()`, `.split()`, `.replace()` "
   ]
  },
  {
   "cell_type": "markdown",
   "metadata": {},
   "source": [
    "Traitement d'une ligne"
   ]
  },
  {
   "cell_type": "code",
   "execution_count": 22,
   "metadata": {},
   "outputs": [],
   "source": [
    "ligne1 = '1.2;-0.1\\n'"
   ]
  },
  {
   "cell_type": "code",
   "execution_count": 23,
   "metadata": {},
   "outputs": [
    {
     "data": {
      "text/plain": [
       "'1.2;-0.1'"
      ]
     },
     "execution_count": 23,
     "metadata": {},
     "output_type": "execute_result"
    }
   ],
   "source": [
    "ligne1.strip()"
   ]
  },
  {
   "cell_type": "code",
   "execution_count": 24,
   "metadata": {},
   "outputs": [
    {
     "data": {
      "text/plain": [
       "'1.2;-0.1\\n'"
      ]
     },
     "execution_count": 24,
     "metadata": {},
     "output_type": "execute_result"
    }
   ],
   "source": [
    "ligne1"
   ]
  },
  {
   "cell_type": "code",
   "execution_count": 25,
   "metadata": {},
   "outputs": [],
   "source": [
    "ligne1 = ligne1.strip()"
   ]
  },
  {
   "cell_type": "code",
   "execution_count": 26,
   "metadata": {},
   "outputs": [
    {
     "data": {
      "text/plain": [
       "'1.2;-0.1'"
      ]
     },
     "execution_count": 26,
     "metadata": {},
     "output_type": "execute_result"
    }
   ],
   "source": [
    "ligne1"
   ]
  },
  {
   "cell_type": "code",
   "execution_count": 57,
   "metadata": {},
   "outputs": [
    {
     "data": {
      "text/plain": [
       "'ertdgde\\n  etrtt'"
      ]
     },
     "execution_count": 57,
     "metadata": {},
     "output_type": "execute_result"
    }
   ],
   "source": [
    "\" \\n   ertdgde\\n  etrtt \\n  \".strip()"
   ]
  },
  {
   "cell_type": "code",
   "execution_count": 27,
   "metadata": {},
   "outputs": [
    {
     "data": {
      "text/plain": [
       "' \\n   ertdgde\\n  etrtt \\n  '"
      ]
     },
     "execution_count": 27,
     "metadata": {},
     "output_type": "execute_result"
    }
   ],
   "source": [
    "\" \\n   ertdgde\\n  etrtt \\n  \".strip(\"ertg\")"
   ]
  },
  {
   "cell_type": "code",
   "execution_count": 61,
   "metadata": {},
   "outputs": [
    {
     "data": {
      "text/plain": [
       "'dgde\\n  '"
      ]
     },
     "execution_count": 61,
     "metadata": {},
     "output_type": "execute_result"
    }
   ],
   "source": [
    "\"ertdgde\\n  etrtt\".strip(\"ertg\")"
   ]
  },
  {
   "cell_type": "code",
   "execution_count": 63,
   "metadata": {},
   "outputs": [
    {
     "data": {
      "text/plain": [
       "'1.2;-0.1'"
      ]
     },
     "execution_count": 63,
     "metadata": {},
     "output_type": "execute_result"
    }
   ],
   "source": [
    "ligne1"
   ]
  },
  {
   "cell_type": "code",
   "execution_count": 66,
   "metadata": {},
   "outputs": [
    {
     "data": {
      "text/plain": [
       "['1.2', '-0.1']"
      ]
     },
     "execution_count": 66,
     "metadata": {},
     "output_type": "execute_result"
    }
   ],
   "source": [
    "ligne1.split(\";\")"
   ]
  },
  {
   "cell_type": "code",
   "execution_count": 68,
   "metadata": {},
   "outputs": [
    {
     "data": {
      "text/plain": [
       "['45,2', '7', ' -10', 'toto']"
      ]
     },
     "execution_count": 68,
     "metadata": {},
     "output_type": "execute_result"
    }
   ],
   "source": [
    "\"45,2;7; -10;toto\".split(\";\")"
   ]
  },
  {
   "cell_type": "code",
   "execution_count": 29,
   "metadata": {},
   "outputs": [
    {
     "data": {
      "text/plain": [
       "['kjfsq', 'sdflkq', 'sqdf']"
      ]
     },
     "execution_count": 29,
     "metadata": {},
     "output_type": "execute_result"
    }
   ],
   "source": [
    "\"kjfsq sdflkq sqdf      \".split()"
   ]
  },
  {
   "cell_type": "code",
   "execution_count": 72,
   "metadata": {},
   "outputs": [
    {
     "data": {
      "text/plain": [
       "['kjfsq', 'sdflkq', 'sqdf', '', '', '', '', '', '']"
      ]
     },
     "execution_count": 72,
     "metadata": {},
     "output_type": "execute_result"
    }
   ],
   "source": [
    "\"kjfsq sdflkq sqdf      \".split(\" \")"
   ]
  },
  {
   "cell_type": "code",
   "execution_count": 89,
   "metadata": {},
   "outputs": [
    {
     "data": {
      "text/plain": [
       "['kjfsq s', '', 'lkq sq', '      ']"
      ]
     },
     "execution_count": 89,
     "metadata": {},
     "output_type": "execute_result"
    }
   ],
   "source": [
    "\"kjfsq sdfdflkq sqdf      \".split('df')"
   ]
  },
  {
   "cell_type": "code",
   "execution_count": 90,
   "metadata": {},
   "outputs": [
    {
     "data": {
      "text/plain": [
       "['abbbbb']"
      ]
     },
     "execution_count": 90,
     "metadata": {},
     "output_type": "execute_result"
    }
   ],
   "source": [
    "\"abbbbb\".split('df')"
   ]
  },
  {
   "cell_type": "code",
   "execution_count": null,
   "metadata": {},
   "outputs": [],
   "source": [
    "## retirer les caractères de fin de ligne\n"
   ]
  },
  {
   "cell_type": "markdown",
   "metadata": {},
   "source": [
    "**I.1.c.** Mise en œuvre pratique"
   ]
  },
  {
   "cell_type": "code",
   "execution_count": 30,
   "metadata": {},
   "outputs": [],
   "source": [
    "with open(\"Telechargements/TD08/coordonnees.csv\") as f:\n",
    "    contenu = f.readlines()"
   ]
  },
  {
   "cell_type": "code",
   "execution_count": 31,
   "metadata": {},
   "outputs": [
    {
     "data": {
      "text/plain": [
       "['x;y\\n', '1.2;-0.1\\n', '4.0;5.0\\n', '4.1;5.7\\n']"
      ]
     },
     "execution_count": 31,
     "metadata": {},
     "output_type": "execute_result"
    }
   ],
   "source": [
    "contenu"
   ]
  },
  {
   "cell_type": "code",
   "execution_count": 32,
   "metadata": {},
   "outputs": [
    {
     "name": "stdout",
     "output_type": "stream",
     "text": [
      "x;y\n",
      "\n",
      "x;y\n",
      "['x', 'y']\n",
      "1.2;-0.1\n",
      "\n",
      "1.2;-0.1\n",
      "['1.2', '-0.1']\n",
      "4.0;5.0\n",
      "\n",
      "4.0;5.0\n",
      "['4.0', '5.0']\n",
      "4.1;5.7\n",
      "\n",
      "4.1;5.7\n",
      "['4.1', '5.7']\n"
     ]
    }
   ],
   "source": [
    "tab = []\n",
    "for i in range(len(contenu)):\n",
    "    ligne = contenu[i]\n",
    "    print(ligne)\n",
    "    #ligne_nouvelle = ligne.strip()\n",
    "    ligne = ligne.strip()\n",
    "    print(ligne)\n",
    "    #ligne_nouvelle2 = ligne_nouvelle.strip()\n",
    "    ligne = ligne.split(\";\")\n",
    "    print(ligne)\n",
    "    tab.append(ligne)"
   ]
  },
  {
   "cell_type": "code",
   "execution_count": 83,
   "metadata": {},
   "outputs": [],
   "source": [
    "tab = []\n",
    "for i in range(len(contenu)):\n",
    "    ligne = contenu[i]\n",
    "    ligne = ligne.strip()\n",
    "    ligne = ligne.split(\";\")\n",
    "    tab.append(ligne)"
   ]
  },
  {
   "cell_type": "code",
   "execution_count": 85,
   "metadata": {},
   "outputs": [
    {
     "data": {
      "text/plain": [
       "[['x', 'y'], ['1.2', '-0.1'], ['4.0', '5.0'], ['4.1', '5.7']]"
      ]
     },
     "execution_count": 85,
     "metadata": {},
     "output_type": "execute_result"
    }
   ],
   "source": [
    "tab"
   ]
  },
  {
   "cell_type": "code",
   "execution_count": 91,
   "metadata": {},
   "outputs": [
    {
     "data": {
      "text/plain": [
       "[['x', 'y'], ['1.2', '-0.1'], ['4.0', '5.0'], ['4.1', '5.7']]"
      ]
     },
     "execution_count": 91,
     "metadata": {},
     "output_type": "execute_result"
    }
   ],
   "source": [
    "tab = []\n",
    "for line in contenu:\n",
    "    tab.append(line.strip().split(\";\"))\n",
    "tab"
   ]
  },
  {
   "cell_type": "markdown",
   "metadata": {},
   "source": [
    "Traitement des nombres"
   ]
  },
  {
   "cell_type": "code",
   "execution_count": 92,
   "metadata": {},
   "outputs": [],
   "source": [
    "# si le fichier d'origine contient des nombres \"à virgule\" \"français\""
   ]
  },
  {
   "cell_type": "code",
   "execution_count": 93,
   "metadata": {},
   "outputs": [],
   "source": []
  },
  {
   "cell_type": "code",
   "execution_count": 36,
   "metadata": {},
   "outputs": [
    {
     "data": {
      "text/plain": [
       "[['x', 'y'], ['1,2', '-0,1'], ['4,0', '5,0'], ['4,1', '5,7']]"
      ]
     },
     "execution_count": 36,
     "metadata": {},
     "output_type": "execute_result"
    }
   ],
   "source": [
    "contenu = ['x;y\\n', '1,2;-0,1\\n', '4,0;5,0\\n', '4,1;5,7\\n']\n",
    "\n",
    "for i in range(len(contenu)):\n",
    "    contenu[i] = contenu[i].strip().split(\";\")\n",
    "contenu"
   ]
  },
  {
   "cell_type": "code",
   "execution_count": 37,
   "metadata": {},
   "outputs": [
    {
     "name": "stdout",
     "output_type": "stream",
     "text": [
      "['1,2', '-0,1']\n",
      "[1.2, -0.1]\n",
      "['4,0', '5,0']\n",
      "[4.0, 5.0]\n",
      "['4,1', '5,7']\n",
      "[4.1, 5.7]\n"
     ]
    },
    {
     "data": {
      "text/plain": [
       "[['x', 'y'], [1.2, -0.1], [4.0, 5.0], [4.1, 5.7]]"
      ]
     },
     "execution_count": 37,
     "metadata": {},
     "output_type": "execute_result"
    }
   ],
   "source": [
    "for i in range(1, len(contenu)):\n",
    "    ligne = contenu[i]\n",
    "    print(ligne)\n",
    "    for j in range(len(ligne)):\n",
    "        ligne[j] = float(ligne[j].replace(\",\", \".\"))\n",
    "    print(ligne)\n",
    "contenu"
   ]
  },
  {
   "cell_type": "code",
   "execution_count": 109,
   "metadata": {},
   "outputs": [
    {
     "name": "stdout",
     "output_type": "stream",
     "text": [
      "[['x', 'y'], ['1,2', '-0,1'], ['4,0', '5,0'], ['4,1', '5,7']]\n"
     ]
    },
    {
     "data": {
      "text/plain": [
       "[['x', 'y'], [1.2, -0.1], [4.0, 5.0], [4.1, 5.7]]"
      ]
     },
     "execution_count": 109,
     "metadata": {},
     "output_type": "execute_result"
    }
   ],
   "source": [
    "contenu = ['x;y\\n', '1,2;-0,1\\n', '4,0;5,0\\n', '4,1;5,7\\n']\n",
    "\n",
    "for i in range(len(contenu)):\n",
    "    contenu[i] = contenu[i].strip().split(\";\")\n",
    "print(contenu)\n",
    "for i in range(1, len(contenu)):\n",
    "    for j in range(len(contenu[0])):\n",
    "        contenu[i][j] = float(contenu[i][j].replace(\",\", \".\"))\n",
    "contenu"
   ]
  },
  {
   "cell_type": "code",
   "execution_count": 116,
   "metadata": {},
   "outputs": [
    {
     "name": "stdout",
     "output_type": "stream",
     "text": [
      "[['x', 'y'], [1.2, -0.1], [4.0, 5.0], [4.1, 5.7]]\n",
      "[1.2, 4.0, 4.1] [-0.1, 5.0, 5.7]\n"
     ]
    }
   ],
   "source": [
    "# pour afficher un graphique\n",
    "contenu = ['x;y\\n', '1,2;-0,1\\n', '4,0;5,0\\n', '4,1;5,7\\n']\n",
    "X, Y = [], []\n",
    "for i in range(len(contenu)):\n",
    "    contenu[i] = contenu[i].strip().split(\";\")\n",
    "    if i > 0 :\n",
    "        for j in range(len(contenu[i])):\n",
    "            contenu[i][j] = float(contenu[i][j].replace(\",\", \".\"))\n",
    "        x, y = contenu[i] ## ligne i\n",
    "        X.append(x)\n",
    "        Y.append(y)\n",
    "print(contenu)\n",
    "print(X, Y)"
   ]
  },
  {
   "cell_type": "code",
   "execution_count": 118,
   "metadata": {},
   "outputs": [
    {
     "data": {
      "image/png": "[encoded data removed]",
      "text/plain": [
       "<Figure size 432x288 with 1 Axes>"
      ]
     },
     "metadata": {
      "needs_background": "light"
     },
     "output_type": "display_data"
    }
   ],
   "source": [
    "%matplotlib inline\n",
    "\n",
    "import matplotlib.pyplot as plt\n",
    "\n",
    "plt.plot(X, Y)\n",
    "plt.show()"
   ]
  },
  {
   "cell_type": "markdown",
   "metadata": {},
   "source": [
    "#### I.2. Écriture d'un fichier `.csv`"
   ]
  },
  {
   "cell_type": "markdown",
   "metadata": {},
   "source": [
    "**I.2.a.** Méthode utile `.join()`, `.replace()`"
   ]
  },
  {
   "cell_type": "markdown",
   "metadata": {},
   "source": [
    "**I.2.b.** Mise en œuvre pratique"
   ]
  },
  {
   "cell_type": "code",
   "execution_count": null,
   "metadata": {},
   "outputs": [],
   "source": []
  }
 ],
 "metadata": {
  "kernelspec": {
   "display_name": "Python 3 (ipykernel)",
   "language": "python",
   "name": "python3"
  },
  "language_info": {
   "codemirror_mode": {
    "name": "ipython",
    "version": 3
   },
   "file_extension": ".py",
   "mimetype": "text/x-python",
   "name": "python",
   "nbconvert_exporter": "python",
   "pygments_lexer": "ipython3",
   "version": "3.9.4"
  },
  "latex_envs": {
   "LaTeX_envs_menu_present": true,
   "autoclose": false,
   "autocomplete": true,
   "bibliofile": "biblio.bib",
   "cite_by": "apalike",
   "current_citInitial": 1,
   "eqLabelWithNumbers": true,
   "eqNumInitial": 1,
   "hotkeys": {
    "equation": "Ctrl-E",
    "itemize": "Ctrl-I"
   },
   "labels_anchors": false,
   "latex_user_defs": false,
   "report_style_numbering": false,
   "user_envs_cfg": false
  }
 },
 "nbformat": 4,
 "nbformat_minor": 2
}
